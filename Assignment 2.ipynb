{
 "cells": [
  {
   "cell_type": "markdown",
   "id": "dceeeaa8",
   "metadata": {},
   "source": [
    "## Assignment 2\n",
    "\n",
    "For this assignment, you will be working on Data Visualization and Machine Learning. The purpose of this assignment is to evaluate your skills in data visualization and machine learning experiments. You will be given a dataset where you will predict digits, and you will be required to train a baseline and a Logistic Regression model.\n",
    "\n",
    "There are eight exercises that you must complete. Once you have completed these exercises, you will have the option to take on some additional challenges for those who enjoy a little extra challenge.\n",
    "\n",
    "### On grading:\n",
    "\n",
    "In order to pass this assignment, you must have at least 5 correct exercises among the graded ones."
   ]
  },
  {
   "cell_type": "code",
   "execution_count": 4,
   "id": "be5306bb",
   "metadata": {},
   "outputs": [],
   "source": [
    "import numpy as np\n",
    "import pandas as pd\n",
    "\n",
    "from sklearn.datasets import load_digits\n",
    "from sklearn.utils import shuffle\n",
    "\n",
    "import matplotlib.pyplot as plt\n",
    "%matplotlib inline"
   ]
  },
  {
   "cell_type": "code",
   "execution_count": 5,
   "id": "7ba75678",
   "metadata": {},
   "outputs": [],
   "source": [
    "digits = load_digits()\n",
    "\n",
    "digits.data, digits.target, digits.images = shuffle(digits.data, digits.target, digits.images, random_state=1233)"
   ]
  },
  {
   "cell_type": "markdown",
   "id": "1e866688",
   "metadata": {},
   "source": [
    "### The data set\n",
    "\n",
    "You can get a description of the dataset by executing the cell below:"
   ]
  },
  {
   "cell_type": "code",
   "execution_count": 9,
   "id": "17a2972b",
   "metadata": {},
   "outputs": [
    {
     "name": "stdout",
     "output_type": "stream",
     "text": [
      ".. _digits_dataset:\n",
      "\n",
      "Optical recognition of handwritten digits dataset\n",
      "--------------------------------------------------\n",
      "\n",
      "**Data Set Characteristics:**\n",
      "\n",
      ":Number of Instances: 1797\n",
      ":Number of Attributes: 64\n",
      ":Attribute Information: 8x8 image of integer pixels in the range 0..16.\n",
      ":Missing Attribute Values: None\n",
      ":Creator: E. Alpaydin (alpaydin '@' boun.edu.tr)\n",
      ":Date: July; 1998\n",
      "\n",
      "This is a copy of the test set of the UCI ML hand-written digits datasets\n",
      "https://archive.ics.uci.edu/ml/datasets/Optical+Recognition+of+Handwritten+Digits\n",
      "\n",
      "The data set contains images of hand-written digits: 10 classes where\n",
      "each class refers to a digit.\n",
      "\n",
      "Preprocessing programs made available by NIST were used to extract\n",
      "normalized bitmaps of handwritten digits from a preprinted form. From a\n",
      "total of 43 people, 30 contributed to the training set and different 13\n",
      "to the test set. 32x32 bitmaps are divided into nonoverlapping blocks of\n",
      "4x4 and the number of on pixels are counted in each block. This generates\n",
      "an input matrix of 8x8 where each element is an integer in the range\n",
      "0..16. This reduces dimensionality and gives invariance to small\n",
      "distortions.\n",
      "\n",
      "For info on NIST preprocessing routines, see M. D. Garris, J. L. Blue, G.\n",
      "T. Candela, D. L. Dimmick, J. Geist, P. J. Grother, S. A. Janet, and C.\n",
      "L. Wilson, NIST Form-Based Handprint Recognition System, NISTIR 5469,\n",
      "1994.\n",
      "\n",
      ".. dropdown:: References\n",
      "\n",
      "  - C. Kaynak (1995) Methods of Combining Multiple Classifiers and Their\n",
      "    Applications to Handwritten Digit Recognition, MSc Thesis, Institute of\n",
      "    Graduate Studies in Science and Engineering, Bogazici University.\n",
      "  - E. Alpaydin, C. Kaynak (1998) Cascading Classifiers, Kybernetika.\n",
      "  - Ken Tang and Ponnuthurai N. Suganthan and Xi Yao and A. Kai Qin.\n",
      "    Linear dimensionalityreduction using relevance weighted LDA. School of\n",
      "    Electrical and Electronic Engineering Nanyang Technological University.\n",
      "    2005.\n",
      "  - Claudio Gentile. A New Approximate Maximal Margin Classification\n",
      "    Algorithm. NIPS. 2000.\n",
      "\n"
     ]
    }
   ],
   "source": [
    "print(digits.DESCR)"
   ]
  },
  {
   "cell_type": "code",
   "execution_count": 11,
   "id": "2d8da5ac",
   "metadata": {},
   "outputs": [
    {
     "name": "stdout",
     "output_type": "stream",
     "text": [
      "The digits datat includes 1797 handwritten digits, stored as 8 by 8 gray-scale images\n"
     ]
    }
   ],
   "source": [
    "first_image = digits.images[0]\n",
    "print(\"The digits datat includes {} handwritten digits, stored as {} by {} gray-scale images\".format(\n",
    "digits.images.shape[0], first_image.shape[0], first_image.shape[1]))"
   ]
  },
  {
   "cell_type": "markdown",
   "id": "dc27cf9b",
   "metadata": {},
   "source": [
    "## Part 1: Data Visualization\n",
    "\n",
    "#### Image representation\n",
    "\n",
    "An image is a 2-dimensional array of integers in the range 0-16. The value of a cell represents the intensity of the ink at that location, i.e. how gray the cell should be rendered. A cell with a value of zero will be rendered as white, while a value of 16 signifies the darkest black. Values in between are grayscale."
   ]
  },
  {
   "cell_type": "code",
   "execution_count": 14,
   "id": "8948c1ca",
   "metadata": {
    "scrolled": true
   },
   "outputs": [
    {
     "data": {
      "text/plain": [
       "array([[ 0.,  0.,  2., 10., 15.,  1.,  0.,  0.],\n",
       "       [ 0.,  3., 16., 16., 13., 13.,  0.,  0.],\n",
       "       [ 0.,  5., 16., 12.,  1., 12.,  1.,  0.],\n",
       "       [ 0.,  7., 13.,  5.,  0.,  7.,  5.,  0.],\n",
       "       [ 0.,  2., 14.,  0.,  0.,  7., 10.,  0.],\n",
       "       [ 0.,  0., 12.,  2.,  0., 12.,  7.,  0.],\n",
       "       [ 0.,  0.,  9., 12., 12., 16.,  4.,  0.],\n",
       "       [ 0.,  0.,  0., 10., 16.,  6.,  0.,  0.]])"
      ]
     },
     "execution_count": 14,
     "metadata": {},
     "output_type": "execute_result"
    }
   ],
   "source": [
    "first_image"
   ]
  },
  {
   "cell_type": "markdown",
   "id": "cee912dc",
   "metadata": {},
   "source": [
    "Can you guess what digit is this? Otherwise the representation below might help"
   ]
  },
  {
   "cell_type": "code",
   "execution_count": 17,
   "id": "76797c46",
   "metadata": {},
   "outputs": [
    {
     "data": {
      "image/png": "[encoded data removed]",
      "text/plain": [
       "<Figure size 640x480 with 1 Axes>"
      ]
     },
     "metadata": {},
     "output_type": "display_data"
    }
   ],
   "source": [
    "plt.imshow(first_image, cmap='Greys', interpolation='none');"
   ]
  },
  {
   "cell_type": "code",
   "execution_count": 19,
   "id": "369958db",
   "metadata": {},
   "outputs": [
    {
     "data": {
      "text/plain": [
       "(64,)"
      ]
     },
     "execution_count": 19,
     "metadata": {},
     "output_type": "execute_result"
    }
   ],
   "source": [
    "first_image.reshape(-1).shape"
   ]
  },
  {
   "cell_type": "markdown",
   "id": "f4615d97",
   "metadata": {},
   "source": [
    "Labels are supplied in the `target` attribute of the `digits` object. The labels are integers corresponding to the digits."
   ]
  },
  {
   "cell_type": "code",
   "execution_count": 22,
   "id": "1fa525e8",
   "metadata": {
    "scrolled": true
   },
   "outputs": [
    {
     "data": {
      "text/plain": [
       "array([0, 8, 7, ..., 5, 0, 0])"
      ]
     },
     "execution_count": 22,
     "metadata": {},
     "output_type": "execute_result"
    }
   ],
   "source": [
    "digits.target"
   ]
  },
  {
   "cell_type": "markdown",
   "id": "f62c6d5b",
   "metadata": {},
   "source": [
    "### Exercise 1: Plot the first digit \"8\" in the dataset\n",
    "\n",
    "When you plot the image using the `.imshow` function, use the same parameters as we used before (`cmap='Greys', interpolation='none'`)."
   ]
  },
  {
   "cell_type": "code",
   "execution_count": 25,
   "id": "2c32b60f",
   "metadata": {
    "scrolled": true
   },
   "outputs": [
    {
     "data": {
      "image/png": "[encoded data removed]",
      "text/plain": [
       "<Figure size 640x480 with 1 Axes>"
      ]
     },
     "metadata": {},
     "output_type": "display_data"
    }
   ],
   "source": [
    "\n",
    "first_eight_index = next(index for index, label in enumerate(digits.target) if label == 8)\n",
    "first_eight_image = digits.images[first_eight_index]\n",
    "\n",
    "plt.imshow(first_eight_image, cmap='Greys', interpolation='none')\n",
    "plt.title(\"First '8' Digit in Dataset\")\n",
    "plt.axis('off')\n",
    "plt.show()\n"
   ]
  },
  {
   "cell_type": "markdown",
   "id": "dff8209b",
   "metadata": {},
   "source": [
    "### Exercise 2: Average images for different classes"
   ]
  },
  {
   "cell_type": "markdown",
   "id": "4335d936",
   "metadata": {},
   "source": [
    "Plot the 10 digits in a 5x2 grid, top to bottom, left to right. I.e., start with `0` in the upper left corner, then `1` in the upper right corner, etc., until you get to `9` in the lower right corner.\n",
    "\n",
    "But watch out, you have to print the average image of a specific class, which means that you need to get all images of that class and then, average them (`np.mean`).\n",
    "\n",
    "Use the `fig` and `axes` data structure returned from the `plt.subplots` command. The `axes` is actually a two-dimensional array of subplots,  where subplots may be referenced by row and column indices. For instance, the plot in the upper right corner (at row 0 and column 1) can be accessed by\n",
    "\n",
    "````\n",
    "axes[0, 1]\n",
    "````\n",
    "\n",
    "The axis object supports all the usual plotting commands: `plot()`, `scatter()`, `hist()`, `imshow()`, etc."
   ]
  },
  {
   "cell_type": "code",
   "execution_count": 83,
   "id": "e690fdb1",
   "metadata": {},
   "outputs": [
    {
     "data": {
      "image/png": "[encoded data removed]",
      "text/plain": [
       "<Figure size 500x1000 with 10 Axes>"
      ]
     },
     "metadata": {},
     "output_type": "display_data"
    }
   ],
   "source": [
    "# grid outline of the numbers\n",
    "fig, axs = plt.subplots(nrows=5, ncols=2) \n",
    "fig.set_size_inches(5, 10)\n",
    "\n",
    "# Plot a straight line in the upper right corner.\n",
    "# Replace by your own code\n",
    "average_image_1 = digits.data[digits.target == 1].mean(axis=0).reshape(8, 8)  \n",
    "ax = axs[0, 1]  \n",
    "ax.imshow(average_image_1, cmap='gray_r',vmin=0, vmax=16)\n",
    "ax.set_title(\"digit: 1\")\n",
    "\n",
    "ax.set_xticks([0, 2, 4, 6])\n",
    "ax.set_yticks([0, 2, 4, 6])\n",
    "ax.set_xticklabels([0, 2, 4, 6])\n",
    "ax.set_yticklabels([0, 2, 4, 6])\n",
    "\n",
    "for digit in range(10):\n",
    "    if digit == 1:\n",
    "        continue \n",
    "\n",
    "    average_image = digits.data[digits.target == digit].mean(axis=0).reshape(8, 8) \n",
    "\n",
    "    row = digit // 2\n",
    "    col = digit % 2\n",
    "\n",
    "    ax = axs[row, col]\n",
    "    ax.imshow(average_image, cmap='gray_r',vmin=0, vmax=16)\n",
    "    ax.set_title(f\"digit: {digit}\")\n",
    "    ax.axis('on') \n",
    "    \n",
    "plt.tight_layout()  \n",
    "plt.show()   \n",
    "    "
   ]
  },
  {
   "cell_type": "markdown",
   "id": "9f3f2c99",
   "metadata": {},
   "source": [
    "## Part 2: Feature vector preparation + baseline\n",
    "\n",
    "### Exercise 3: Flatten the images to 1-dim"
   ]
  },
  {
   "cell_type": "markdown",
   "id": "9e673187",
   "metadata": {},
   "source": [
    "You must convert the 2-dimensional images to 1-dimensional feature vectors before feeding them to the machine learning models. You can do this by reshaping the two last dimensions of each image into -1. Intuitively, you extend the rows next to each other such that the last element of the previous row is adjacent to the first element of the next row. \n",
    "\n",
    "As an example, after this transformation the 3 by 2 array below"
   ]
  },
  {
   "cell_type": "code",
   "execution_count": 26,
   "id": "93fa5d31",
   "metadata": {},
   "outputs": [
    {
     "data": {
      "text/plain": [
       "array([[1, 2],\n",
       "       [3, 4],\n",
       "       [5, 6]])"
      ]
     },
     "execution_count": 26,
     "metadata": {},
     "output_type": "execute_result"
    }
   ],
   "source": [
    "np.array([[1,2], [3, 4], [5, 6]])"
   ]
  },
  {
   "cell_type": "markdown",
   "id": "345051f3",
   "metadata": {},
   "source": [
    "would become this 6 element array:"
   ]
  },
  {
   "cell_type": "code",
   "execution_count": 25,
   "id": "88411518",
   "metadata": {},
   "outputs": [
    {
     "data": {
      "text/plain": [
       "array([1, 2, 3, 4, 5, 6])"
      ]
     },
     "execution_count": 25,
     "metadata": {},
     "output_type": "execute_result"
    }
   ],
   "source": [
    "np.array([1,2, 3, 4, 5, 6])"
   ]
  },
  {
   "cell_type": "markdown",
   "id": "2485b389",
   "metadata": {},
   "source": [
    "**Exercise** Convert the `numbers_2d` array to a one-dimensional `numpy` array called `numbers_1d`. "
   ]
  },
  {
   "cell_type": "code",
   "execution_count": 85,
   "id": "66491e47",
   "metadata": {},
   "outputs": [
    {
     "name": "stdout",
     "output_type": "stream",
     "text": [
      "[1 2 3 4 5 6]\n"
     ]
    }
   ],
   "source": [
    "numbers_2d = np.array([[1,2], [3, 4], [5, 6]])\n",
    "\n",
    "# YOUR CODE HERE\n",
    "numbers_1d = numbers_2d.reshape(-1)\n",
    "print(numbers_1d)"
   ]
  },
  {
   "cell_type": "code",
   "execution_count": 87,
   "id": "a2d5d1f6",
   "metadata": {},
   "outputs": [
    {
     "data": {
      "text/plain": [
       "array([1, 2, 3, 4, 5, 6])"
      ]
     },
     "execution_count": 87,
     "metadata": {},
     "output_type": "execute_result"
    }
   ],
   "source": [
    "numbers_1d"
   ]
  },
  {
   "cell_type": "markdown",
   "id": "0dde38ca",
   "metadata": {},
   "source": [
    "**Exercise** Reshape the entire images array, which has three dimensions, to a two-dimensional array. Save the converted array as `X`. Check that \n",
    "\n",
    "```\n",
    "X.shape\n",
    "```\n",
    "\n",
    "outputs \n",
    "\n",
    "```\n",
    "(1797, 64)\n",
    "```\n",
    "\n",
    "Assign the target digits to a new variable called `y`. \n"
   ]
  },
  {
   "cell_type": "code",
   "execution_count": 89,
   "id": "9ea024f2",
   "metadata": {
    "scrolled": true
   },
   "outputs": [
    {
     "data": {
      "text/plain": [
       "((1797, 64), (1797,))"
      ]
     },
     "execution_count": 89,
     "metadata": {},
     "output_type": "execute_result"
    }
   ],
   "source": [
    "# YOUR CODE HERE\n",
    "X = digits.images.reshape((digits.images.shape[0], -1))\n",
    "y = digits.target\n",
    "\n",
    "X.shape, y.shape"
   ]
  },
  {
   "cell_type": "markdown",
   "id": "516b612d",
   "metadata": {},
   "source": [
    "### Validation"
   ]
  },
  {
   "cell_type": "code",
   "execution_count": 93,
   "id": "4ea3150a",
   "metadata": {},
   "outputs": [],
   "source": [
    "from sklearn.model_selection import train_test_split"
   ]
  },
  {
   "cell_type": "markdown",
   "id": "bc550072",
   "metadata": {},
   "source": [
    "### Exercise 4: Create training and testing splits from the current data set\n",
    "\n",
    "Divide the whole data set into a training set and a testing set, using 33% of the data for testing and the remaining for training.\n",
    "\n",
    "Please set the `random_state` attribute to `443` when creating the training/testing split."
   ]
  },
  {
   "cell_type": "code",
   "execution_count": 96,
   "id": "8a5f056c",
   "metadata": {},
   "outputs": [],
   "source": [
    "#YOUR CODE HERE\n",
    "X_train, X_test, y_train, y_test = train_test_split(X, y, test_size=0.33, random_state=443)"
   ]
  },
  {
   "cell_type": "markdown",
   "id": "c97c74e0",
   "metadata": {},
   "source": [
    "### Exercise 5:\n",
    "\n",
    "Plot the class distribution by creating a histogram that shows how the classes are distributed in the train and test set.\n",
    "\n",
    "The plots should represent the number of `0`-s, `1`-s, `2`-s, ... in the train and test data.\n",
    "\n",
    "To ensure greater reliability of our results, it's important to have similar distributions for both training and testing."
   ]
  },
  {
   "cell_type": "code",
   "execution_count": 156,
   "id": "66d442e8",
   "metadata": {},
   "outputs": [
    {
     "data": {
      "image/png": "[encoded data removed]",
      "text/plain": [
       "<Figure size 550x350 with 2 Axes>"
      ]
     },
     "metadata": {},
     "output_type": "display_data"
    }
   ],
   "source": [
    "#YOUR CODE HERE\n",
    "plt.figure(figsize=(5.5, 3.5))\n",
    "\n",
    "#Class Distribution in Training Set\n",
    "plt.subplot(1, 2, 1)\n",
    "plt.hist(y_train, bins=np.arange(11) , color= 'steelblue',edgecolor='steelblue', alpha=1,density=True,width=0.5)\n",
    "plt.title('Class Distribution in Training Set')\n",
    "plt.xlabel('Digits')\n",
    "plt.ylabel('Frequency')\n",
    "plt.xticks(range(10))\n",
    "\n",
    "# Class Distribution in Testing Set\n",
    "plt.subplot(1, 2, 2)\n",
    "plt.hist(y_test, bins=np.arange(11), color= 'steelblue',edgecolor='steelblue', alpha=1,density=True,width=0.5)\n",
    "plt.title('Class Distribution in Testing Set')\n",
    "plt.xlabel('Digits')\n",
    "plt.ylabel('Frequency')\n",
    "plt.xticks(range(10))\n",
    "\n",
    "plt.tight_layout()\n",
    "plt.show()\n",
    "\n"
   ]
  },
  {
   "cell_type": "markdown",
   "id": "f535b893",
   "metadata": {},
   "source": [
    "### Let's prepare a baseline\n",
    "\n",
    "Before performing the experiments with the target classifier (e.g., Logistic Regression), it is recommended to train a baseline model to know how easy/hard the digit classification task is. Such a baseline model can also help us later evaluate our target classifier's performance. \n",
    "\n",
    "Scikit-learn offers a set of very simple baselines under the `sklearn.dummy.DummyClassifier` class, enabling us to compare our model against them. The baseline DummyClassifier is used the same way as any other classifier in Scikit-learn.\n",
    "\n",
    "After training the baseline and target classifiers, if their performance on a test set were similar, we would have to run significance tests to examine whether one model is better. In this assignment, we will not perform significance testing.  \n",
    "\n",
    "### Exercise 6: Train a baseline and check how it works\n",
    "\n",
    "You should train a baseline on the training instances. There are several strategies that a Baseline can follow, check [the documentation](https://scikit-learn.org/stable/modules/generated/sklearn.dummy.DummyClassifier.html) to find the one that is relevant for this exercise. Just train a baseline with the training dataset."
   ]
  },
  {
   "cell_type": "code",
   "execution_count": 170,
   "id": "b5d6eaf0",
   "metadata": {},
   "outputs": [],
   "source": [
    "from sklearn.dummy import DummyClassifier"
   ]
  },
  {
   "cell_type": "markdown",
   "id": "a1fe9701",
   "metadata": {},
   "source": [
    "### Exercise 6.1: Train the baseline"
   ]
  },
  {
   "cell_type": "code",
   "execution_count": 302,
   "id": "52ab19a2",
   "metadata": {},
   "outputs": [
    {
     "data": {
      "text/html": [
       "<style>#sk-container-id-12 {\n",
       "  /* Definition of color scheme common for light and dark mode */\n",
       "  --sklearn-color-text: black;\n",
       "  --sklearn-color-line: gray;\n",
       "  /* Definition of color scheme for unfitted estimators */\n",
       "  --sklearn-color-unfitted-level-0: #fff5e6;\n",
       "  --sklearn-color-unfitted-level-1: #f6e4d2;\n",
       "  --sklearn-color-unfitted-level-2: #ffe0b3;\n",
       "  --sklearn-color-unfitted-level-3: chocolate;\n",
       "  /* Definition of color scheme for fitted estimators */\n",
       "  --sklearn-color-fitted-level-0: #f0f8ff;\n",
       "  --sklearn-color-fitted-level-1: #d4ebff;\n",
       "  --sklearn-color-fitted-level-2: #b3dbfd;\n",
       "  --sklearn-color-fitted-level-3: cornflowerblue;\n",
       "\n",
       "  /* Specific color for light theme */\n",
       "  --sklearn-color-text-on-default-background: var(--sg-text-color, var(--theme-code-foreground, var(--jp-content-font-color1, black)));\n",
       "  --sklearn-color-background: var(--sg-background-color, var(--theme-background, var(--jp-layout-color0, white)));\n",
       "  --sklearn-color-border-box: var(--sg-text-color, var(--theme-code-foreground, var(--jp-content-font-color1, black)));\n",
       "  --sklearn-color-icon: #696969;\n",
       "\n",
       "  @media (prefers-color-scheme: dark) {\n",
       "    /* Redefinition of color scheme for dark theme */\n",
       "    --sklearn-color-text-on-default-background: var(--sg-text-color, var(--theme-code-foreground, var(--jp-content-font-color1, white)));\n",
       "    --sklearn-color-background: var(--sg-background-color, var(--theme-background, var(--jp-layout-color0, #111)));\n",
       "    --sklearn-color-border-box: var(--sg-text-color, var(--theme-code-foreground, var(--jp-content-font-color1, white)));\n",
       "    --sklearn-color-icon: #878787;\n",
       "  }\n",
       "}\n",
       "\n",
       "#sk-container-id-12 {\n",
       "  color: var(--sklearn-color-text);\n",
       "}\n",
       "\n",
       "#sk-container-id-12 pre {\n",
       "  padding: 0;\n",
       "}\n",
       "\n",
       "#sk-container-id-12 input.sk-hidden--visually {\n",
       "  border: 0;\n",
       "  clip: rect(1px 1px 1px 1px);\n",
       "  clip: rect(1px, 1px, 1px, 1px);\n",
       "  height: 1px;\n",
       "  margin: -1px;\n",
       "  overflow: hidden;\n",
       "  padding: 0;\n",
       "  position: absolute;\n",
       "  width: 1px;\n",
       "}\n",
       "\n",
       "#sk-container-id-12 div.sk-dashed-wrapped {\n",
       "  border: 1px dashed var(--sklearn-color-line);\n",
       "  margin: 0 0.4em 0.5em 0.4em;\n",
       "  box-sizing: border-box;\n",
       "  padding-bottom: 0.4em;\n",
       "  background-color: var(--sklearn-color-background);\n",
       "}\n",
       "\n",
       "#sk-container-id-12 div.sk-container {\n",
       "  /* jupyter's `normalize.less` sets `[hidden] { display: none; }`\n",
       "     but bootstrap.min.css set `[hidden] { display: none !important; }`\n",
       "     so we also need the `!important` here to be able to override the\n",
       "     default hidden behavior on the sphinx rendered scikit-learn.org.\n",
       "     See: https://github.com/scikit-learn/scikit-learn/issues/21755 */\n",
       "  display: inline-block !important;\n",
       "  position: relative;\n",
       "}\n",
       "\n",
       "#sk-container-id-12 div.sk-text-repr-fallback {\n",
       "  display: none;\n",
       "}\n",
       "\n",
       "div.sk-parallel-item,\n",
       "div.sk-serial,\n",
       "div.sk-item {\n",
       "  /* draw centered vertical line to link estimators */\n",
       "  background-image: linear-gradient(var(--sklearn-color-text-on-default-background), var(--sklearn-color-text-on-default-background));\n",
       "  background-size: 2px 100%;\n",
       "  background-repeat: no-repeat;\n",
       "  background-position: center center;\n",
       "}\n",
       "\n",
       "/* Parallel-specific style estimator block */\n",
       "\n",
       "#sk-container-id-12 div.sk-parallel-item::after {\n",
       "  content: \"\";\n",
       "  width: 100%;\n",
       "  border-bottom: 2px solid var(--sklearn-color-text-on-default-background);\n",
       "  flex-grow: 1;\n",
       "}\n",
       "\n",
       "#sk-container-id-12 div.sk-parallel {\n",
       "  display: flex;\n",
       "  align-items: stretch;\n",
       "  justify-content: center;\n",
       "  background-color: var(--sklearn-color-background);\n",
       "  position: relative;\n",
       "}\n",
       "\n",
       "#sk-container-id-12 div.sk-parallel-item {\n",
       "  display: flex;\n",
       "  flex-direction: column;\n",
       "}\n",
       "\n",
       "#sk-container-id-12 div.sk-parallel-item:first-child::after {\n",
       "  align-self: flex-end;\n",
       "  width: 50%;\n",
       "}\n",
       "\n",
       "#sk-container-id-12 div.sk-parallel-item:last-child::after {\n",
       "  align-self: flex-start;\n",
       "  width: 50%;\n",
       "}\n",
       "\n",
       "#sk-container-id-12 div.sk-parallel-item:only-child::after {\n",
       "  width: 0;\n",
       "}\n",
       "\n",
       "/* Serial-specific style estimator block */\n",
       "\n",
       "#sk-container-id-12 div.sk-serial {\n",
       "  display: flex;\n",
       "  flex-direction: column;\n",
       "  align-items: center;\n",
       "  background-color: var(--sklearn-color-background);\n",
       "  padding-right: 1em;\n",
       "  padding-left: 1em;\n",
       "}\n",
       "\n",
       "\n",
       "/* Toggleable style: style used for estimator/Pipeline/ColumnTransformer box that is\n",
       "clickable and can be expanded/collapsed.\n",
       "- Pipeline and ColumnTransformer use this feature and define the default style\n",
       "- Estimators will overwrite some part of the style using the `sk-estimator` class\n",
       "*/\n",
       "\n",
       "/* Pipeline and ColumnTransformer style (default) */\n",
       "\n",
       "#sk-container-id-12 div.sk-toggleable {\n",
       "  /* Default theme specific background. It is overwritten whether we have a\n",
       "  specific estimator or a Pipeline/ColumnTransformer */\n",
       "  background-color: var(--sklearn-color-background);\n",
       "}\n",
       "\n",
       "/* Toggleable label */\n",
       "#sk-container-id-12 label.sk-toggleable__label {\n",
       "  cursor: pointer;\n",
       "  display: block;\n",
       "  width: 100%;\n",
       "  margin-bottom: 0;\n",
       "  padding: 0.5em;\n",
       "  box-sizing: border-box;\n",
       "  text-align: center;\n",
       "}\n",
       "\n",
       "#sk-container-id-12 label.sk-toggleable__label-arrow:before {\n",
       "  /* Arrow on the left of the label */\n",
       "  content: \"▸\";\n",
       "  float: left;\n",
       "  margin-right: 0.25em;\n",
       "  color: var(--sklearn-color-icon);\n",
       "}\n",
       "\n",
       "#sk-container-id-12 label.sk-toggleable__label-arrow:hover:before {\n",
       "  color: var(--sklearn-color-text);\n",
       "}\n",
       "\n",
       "/* Toggleable content - dropdown */\n",
       "\n",
       "#sk-container-id-12 div.sk-toggleable__content {\n",
       "  max-height: 0;\n",
       "  max-width: 0;\n",
       "  overflow: hidden;\n",
       "  text-align: left;\n",
       "  /* unfitted */\n",
       "  background-color: var(--sklearn-color-unfitted-level-0);\n",
       "}\n",
       "\n",
       "#sk-container-id-12 div.sk-toggleable__content.fitted {\n",
       "  /* fitted */\n",
       "  background-color: var(--sklearn-color-fitted-level-0);\n",
       "}\n",
       "\n",
       "#sk-container-id-12 div.sk-toggleable__content pre {\n",
       "  margin: 0.2em;\n",
       "  border-radius: 0.25em;\n",
       "  color: var(--sklearn-color-text);\n",
       "  /* unfitted */\n",
       "  background-color: var(--sklearn-color-unfitted-level-0);\n",
       "}\n",
       "\n",
       "#sk-container-id-12 div.sk-toggleable__content.fitted pre {\n",
       "  /* unfitted */\n",
       "  background-color: var(--sklearn-color-fitted-level-0);\n",
       "}\n",
       "\n",
       "#sk-container-id-12 input.sk-toggleable__control:checked~div.sk-toggleable__content {\n",
       "  /* Expand drop-down */\n",
       "  max-height: 200px;\n",
       "  max-width: 100%;\n",
       "  overflow: auto;\n",
       "}\n",
       "\n",
       "#sk-container-id-12 input.sk-toggleable__control:checked~label.sk-toggleable__label-arrow:before {\n",
       "  content: \"▾\";\n",
       "}\n",
       "\n",
       "/* Pipeline/ColumnTransformer-specific style */\n",
       "\n",
       "#sk-container-id-12 div.sk-label input.sk-toggleable__control:checked~label.sk-toggleable__label {\n",
       "  color: var(--sklearn-color-text);\n",
       "  background-color: var(--sklearn-color-unfitted-level-2);\n",
       "}\n",
       "\n",
       "#sk-container-id-12 div.sk-label.fitted input.sk-toggleable__control:checked~label.sk-toggleable__label {\n",
       "  background-color: var(--sklearn-color-fitted-level-2);\n",
       "}\n",
       "\n",
       "/* Estimator-specific style */\n",
       "\n",
       "/* Colorize estimator box */\n",
       "#sk-container-id-12 div.sk-estimator input.sk-toggleable__control:checked~label.sk-toggleable__label {\n",
       "  /* unfitted */\n",
       "  background-color: var(--sklearn-color-unfitted-level-2);\n",
       "}\n",
       "\n",
       "#sk-container-id-12 div.sk-estimator.fitted input.sk-toggleable__control:checked~label.sk-toggleable__label {\n",
       "  /* fitted */\n",
       "  background-color: var(--sklearn-color-fitted-level-2);\n",
       "}\n",
       "\n",
       "#sk-container-id-12 div.sk-label label.sk-toggleable__label,\n",
       "#sk-container-id-12 div.sk-label label {\n",
       "  /* The background is the default theme color */\n",
       "  color: var(--sklearn-color-text-on-default-background);\n",
       "}\n",
       "\n",
       "/* On hover, darken the color of the background */\n",
       "#sk-container-id-12 div.sk-label:hover label.sk-toggleable__label {\n",
       "  color: var(--sklearn-color-text);\n",
       "  background-color: var(--sklearn-color-unfitted-level-2);\n",
       "}\n",
       "\n",
       "/* Label box, darken color on hover, fitted */\n",
       "#sk-container-id-12 div.sk-label.fitted:hover label.sk-toggleable__label.fitted {\n",
       "  color: var(--sklearn-color-text);\n",
       "  background-color: var(--sklearn-color-fitted-level-2);\n",
       "}\n",
       "\n",
       "/* Estimator label */\n",
       "\n",
       "#sk-container-id-12 div.sk-label label {\n",
       "  font-family: monospace;\n",
       "  font-weight: bold;\n",
       "  display: inline-block;\n",
       "  line-height: 1.2em;\n",
       "}\n",
       "\n",
       "#sk-container-id-12 div.sk-label-container {\n",
       "  text-align: center;\n",
       "}\n",
       "\n",
       "/* Estimator-specific */\n",
       "#sk-container-id-12 div.sk-estimator {\n",
       "  font-family: monospace;\n",
       "  border: 1px dotted var(--sklearn-color-border-box);\n",
       "  border-radius: 0.25em;\n",
       "  box-sizing: border-box;\n",
       "  margin-bottom: 0.5em;\n",
       "  /* unfitted */\n",
       "  background-color: var(--sklearn-color-unfitted-level-0);\n",
       "}\n",
       "\n",
       "#sk-container-id-12 div.sk-estimator.fitted {\n",
       "  /* fitted */\n",
       "  background-color: var(--sklearn-color-fitted-level-0);\n",
       "}\n",
       "\n",
       "/* on hover */\n",
       "#sk-container-id-12 div.sk-estimator:hover {\n",
       "  /* unfitted */\n",
       "  background-color: var(--sklearn-color-unfitted-level-2);\n",
       "}\n",
       "\n",
       "#sk-container-id-12 div.sk-estimator.fitted:hover {\n",
       "  /* fitted */\n",
       "  background-color: var(--sklearn-color-fitted-level-2);\n",
       "}\n",
       "\n",
       "/* Specification for estimator info (e.g. \"i\" and \"?\") */\n",
       "\n",
       "/* Common style for \"i\" and \"?\" */\n",
       "\n",
       ".sk-estimator-doc-link,\n",
       "a:link.sk-estimator-doc-link,\n",
       "a:visited.sk-estimator-doc-link {\n",
       "  float: right;\n",
       "  font-size: smaller;\n",
       "  line-height: 1em;\n",
       "  font-family: monospace;\n",
       "  background-color: var(--sklearn-color-background);\n",
       "  border-radius: 1em;\n",
       "  height: 1em;\n",
       "  width: 1em;\n",
       "  text-decoration: none !important;\n",
       "  margin-left: 1ex;\n",
       "  /* unfitted */\n",
       "  border: var(--sklearn-color-unfitted-level-1) 1pt solid;\n",
       "  color: var(--sklearn-color-unfitted-level-1);\n",
       "}\n",
       "\n",
       ".sk-estimator-doc-link.fitted,\n",
       "a:link.sk-estimator-doc-link.fitted,\n",
       "a:visited.sk-estimator-doc-link.fitted {\n",
       "  /* fitted */\n",
       "  border: var(--sklearn-color-fitted-level-1) 1pt solid;\n",
       "  color: var(--sklearn-color-fitted-level-1);\n",
       "}\n",
       "\n",
       "/* On hover */\n",
       "div.sk-estimator:hover .sk-estimator-doc-link:hover,\n",
       ".sk-estimator-doc-link:hover,\n",
       "div.sk-label-container:hover .sk-estimator-doc-link:hover,\n",
       ".sk-estimator-doc-link:hover {\n",
       "  /* unfitted */\n",
       "  background-color: var(--sklearn-color-unfitted-level-3);\n",
       "  color: var(--sklearn-color-background);\n",
       "  text-decoration: none;\n",
       "}\n",
       "\n",
       "div.sk-estimator.fitted:hover .sk-estimator-doc-link.fitted:hover,\n",
       ".sk-estimator-doc-link.fitted:hover,\n",
       "div.sk-label-container:hover .sk-estimator-doc-link.fitted:hover,\n",
       ".sk-estimator-doc-link.fitted:hover {\n",
       "  /* fitted */\n",
       "  background-color: var(--sklearn-color-fitted-level-3);\n",
       "  color: var(--sklearn-color-background);\n",
       "  text-decoration: none;\n",
       "}\n",
       "\n",
       "/* Span, style for the box shown on hovering the info icon */\n",
       ".sk-estimator-doc-link span {\n",
       "  display: none;\n",
       "  z-index: 9999;\n",
       "  position: relative;\n",
       "  font-weight: normal;\n",
       "  right: .2ex;\n",
       "  padding: .5ex;\n",
       "  margin: .5ex;\n",
       "  width: min-content;\n",
       "  min-width: 20ex;\n",
       "  max-width: 50ex;\n",
       "  color: var(--sklearn-color-text);\n",
       "  box-shadow: 2pt 2pt 4pt #999;\n",
       "  /* unfitted */\n",
       "  background: var(--sklearn-color-unfitted-level-0);\n",
       "  border: .5pt solid var(--sklearn-color-unfitted-level-3);\n",
       "}\n",
       "\n",
       ".sk-estimator-doc-link.fitted span {\n",
       "  /* fitted */\n",
       "  background: var(--sklearn-color-fitted-level-0);\n",
       "  border: var(--sklearn-color-fitted-level-3);\n",
       "}\n",
       "\n",
       ".sk-estimator-doc-link:hover span {\n",
       "  display: block;\n",
       "}\n",
       "\n",
       "/* \"?\"-specific style due to the `<a>` HTML tag */\n",
       "\n",
       "#sk-container-id-12 a.estimator_doc_link {\n",
       "  float: right;\n",
       "  font-size: 1rem;\n",
       "  line-height: 1em;\n",
       "  font-family: monospace;\n",
       "  background-color: var(--sklearn-color-background);\n",
       "  border-radius: 1rem;\n",
       "  height: 1rem;\n",
       "  width: 1rem;\n",
       "  text-decoration: none;\n",
       "  /* unfitted */\n",
       "  color: var(--sklearn-color-unfitted-level-1);\n",
       "  border: var(--sklearn-color-unfitted-level-1) 1pt solid;\n",
       "}\n",
       "\n",
       "#sk-container-id-12 a.estimator_doc_link.fitted {\n",
       "  /* fitted */\n",
       "  border: var(--sklearn-color-fitted-level-1) 1pt solid;\n",
       "  color: var(--sklearn-color-fitted-level-1);\n",
       "}\n",
       "\n",
       "/* On hover */\n",
       "#sk-container-id-12 a.estimator_doc_link:hover {\n",
       "  /* unfitted */\n",
       "  background-color: var(--sklearn-color-unfitted-level-3);\n",
       "  color: var(--sklearn-color-background);\n",
       "  text-decoration: none;\n",
       "}\n",
       "\n",
       "#sk-container-id-12 a.estimator_doc_link.fitted:hover {\n",
       "  /* fitted */\n",
       "  background-color: var(--sklearn-color-fitted-level-3);\n",
       "}\n",
       "</style><div id=\"sk-container-id-12\" class=\"sk-top-container\"><div class=\"sk-text-repr-fallback\"><pre>DummyClassifier(random_state=443, strategy=&#x27;stratified&#x27;)</pre><b>In a Jupyter environment, please rerun this cell to show the HTML representation or trust the notebook. <br />On GitHub, the HTML representation is unable to render, please try loading this page with nbviewer.org.</b></div><div class=\"sk-container\" hidden><div class=\"sk-item\"><div class=\"sk-estimator fitted sk-toggleable\"><input class=\"sk-toggleable__control sk-hidden--visually\" id=\"sk-estimator-id-12\" type=\"checkbox\" checked><label for=\"sk-estimator-id-12\" class=\"sk-toggleable__label fitted sk-toggleable__label-arrow fitted\">&nbsp;&nbsp;DummyClassifier<a class=\"sk-estimator-doc-link fitted\" rel=\"noreferrer\" target=\"_blank\" href=\"https://scikit-learn.org/1.5/modules/generated/sklearn.dummy.DummyClassifier.html\">?<span>Documentation for DummyClassifier</span></a><span class=\"sk-estimator-doc-link fitted\">i<span>Fitted</span></span></label><div class=\"sk-toggleable__content fitted\"><pre>DummyClassifier(random_state=443, strategy=&#x27;stratified&#x27;)</pre></div> </div></div></div></div>"
      ],
      "text/plain": [
       "DummyClassifier(random_state=443, strategy='stratified')"
      ]
     },
     "execution_count": 302,
     "metadata": {},
     "output_type": "execute_result"
    }
   ],
   "source": [
    "\n",
    "baseline_classifier= DummyClassifier(strategy='stratified',random_state=443)\n",
    "\n",
    "baseline_classifier.fit(X_train, y_train)\n"
   ]
  },
  {
   "cell_type": "markdown",
   "id": "364ad9aa",
   "metadata": {},
   "source": [
    "You already trained a dummy classifier (baseline). Please, get the test images and see how the model performs. Think about how it makes the predictions. If you don't know it, you can always check the [documentation](https://scikit-learn.org/stable/modules/generated/sklearn.dummy.DummyClassifier.html).\n",
    "\n",
    "If you want the predictions to be always the same, you have to establish the `random_state` parameter in the constructor (a seed number), together with the `strategy`."
   ]
  },
  {
   "cell_type": "code",
   "execution_count": 305,
   "id": "865252af",
   "metadata": {},
   "outputs": [
    {
     "name": "stdout",
     "output_type": "stream",
     "text": [
      "[1 9 7 1 3 6 0 8 7 9]\n",
      "[1 3 5 6 4 3 2 5 7 4]\n"
     ]
    }
   ],
   "source": [
    "print (baseline_classifier.predict(X_test)[:10])\n",
    "print (y_test[:10])"
   ]
  },
  {
   "cell_type": "code",
   "execution_count": 307,
   "id": "66b7c999",
   "metadata": {},
   "outputs": [],
   "source": [
    "y_pred = baseline_classifier.predict(X_test)"
   ]
  },
  {
   "cell_type": "markdown",
   "id": "04f2449c",
   "metadata": {},
   "source": [
    "### Exercise 6.2:\n",
    "\n",
    "And now, please, show the performance of the model by printing the `classification_report`:"
   ]
  },
  {
   "cell_type": "code",
   "execution_count": 310,
   "id": "30ec3d96",
   "metadata": {},
   "outputs": [],
   "source": [
    "from sklearn.metrics import classification_report"
   ]
  },
  {
   "cell_type": "code",
   "execution_count": 318,
   "id": "461a610b",
   "metadata": {},
   "outputs": [
    {
     "name": "stdout",
     "output_type": "stream",
     "text": [
      "              precision    recall  f1-score   support\n",
      "\n",
      "           0       0.08      0.07      0.08        56\n",
      "           1       0.14      0.13      0.14        61\n",
      "           2       0.12      0.10      0.11        61\n",
      "           3       0.10      0.12      0.11        58\n",
      "           4       0.08      0.09      0.08        56\n",
      "           5       0.20      0.15      0.18        65\n",
      "           6       0.03      0.03      0.03        66\n",
      "           7       0.09      0.11      0.10        56\n",
      "           8       0.08      0.11      0.10        54\n",
      "           9       0.04      0.03      0.04        61\n",
      "\n",
      "    accuracy                           0.09       594\n",
      "   macro avg       0.10      0.09      0.09       594\n",
      "weighted avg       0.10      0.09      0.09       594\n",
      "\n"
     ]
    }
   ],
   "source": [
    "#YOUR CODE HERE\n",
    "print(classification_report(y_test, y_pred))"
   ]
  },
  {
   "cell_type": "markdown",
   "id": "8ed937f7",
   "metadata": {},
   "source": [
    "You can optionally check other strategies and think about how they work. For each strategy, you can look at the f1_score with macro average `f1_score(y_true = y_test, y_pred = y_pred, average='macro')`."
   ]
  },
  {
   "cell_type": "code",
   "execution_count": 350,
   "id": "e03e340e",
   "metadata": {},
   "outputs": [
    {
     "name": "stdout",
     "output_type": "stream",
     "text": [
      "most_frequent 0.017791411042944787\n",
      "prior 0.017791411042944787\n",
      "stratified 0.09479679924421427\n",
      "uniform 0.09821324737007193\n"
     ]
    }
   ],
   "source": [
    "from sklearn.metrics import f1_score\n",
    "strategies = ['most_frequent', 'prior', 'stratified', 'uniform']\n",
    "\n",
    "results = {}\n",
    "\n",
    "for strategy in strategies:\n",
    "    dummy_classifier = DummyClassifier(strategy=strategy,random_state = 443)\n",
    "    \n",
    "    dummy_classifier.fit(X_train, y_train)\n",
    "    \n",
    "    y_pred = dummy_classifier.predict(X_test)\n",
    "    \n",
    "    f1 = f1_score(y_true = y_test, y_pred = y_pred, average='macro')\n",
    "    \n",
    "    results[strategy] = f1\n",
    "\n",
    "for strategy, f1_score in results.items():\n",
    "    print(strategy,f1_score)\n"
   ]
  },
  {
   "cell_type": "markdown",
   "id": "f6ffb598",
   "metadata": {},
   "source": [
    "### Exercise 7: Train Logistic Regression\n",
    "\n",
    "In this exercise you will train a Logistic Regression using the `liblinear` solver and setting the `random_state` to `443`."
   ]
  },
  {
   "cell_type": "code",
   "execution_count": 354,
   "id": "e9f68460",
   "metadata": {},
   "outputs": [],
   "source": [
    "from sklearn.linear_model import LogisticRegression"
   ]
  },
  {
   "cell_type": "code",
   "execution_count": 355,
   "id": "7b25e2a0",
   "metadata": {},
   "outputs": [],
   "source": [
    "#YOUR CODE HERE\n",
    "log_reg = LogisticRegression(solver='liblinear', random_state=443)\n",
    "log_reg.fit(X_train, y_train)\n",
    "y_pred_lr= log_reg.predict(X_test)"
   ]
  },
  {
   "cell_type": "markdown",
   "id": "8408efec",
   "metadata": {},
   "source": [
    "And let's see its results:"
   ]
  },
  {
   "cell_type": "code",
   "execution_count": 108,
   "id": "68a9b7fa",
   "metadata": {},
   "outputs": [
    {
     "name": "stdout",
     "output_type": "stream",
     "text": [
      "              precision    recall  f1-score   support\n",
      "\n",
      "           0       1.00      0.96      0.98        56\n",
      "           1       0.94      0.95      0.94        61\n",
      "           2       1.00      0.95      0.97        61\n",
      "           3       0.92      0.95      0.93        58\n",
      "           4       0.96      0.96      0.96        56\n",
      "           5       0.97      0.97      0.97        65\n",
      "           6       0.98      0.98      0.98        66\n",
      "           7       0.98      0.98      0.98        56\n",
      "           8       0.85      0.93      0.88        54\n",
      "           9       0.95      0.90      0.92        61\n",
      "\n",
      "    accuracy                           0.95       594\n",
      "   macro avg       0.95      0.95      0.95       594\n",
      "weighted avg       0.96      0.95      0.95       594\n",
      "\n"
     ]
    }
   ],
   "source": [
    "print (classification_report(y_test, y_pred_lr))"
   ]
  },
  {
   "cell_type": "markdown",
   "id": "ddb7750e",
   "metadata": {},
   "source": [
    "### Exercise 8:\n",
    "\n",
    "It's clear that the Logistic Regression model outperforms the baseline model. Can you shed any light on why this might be the case?\n",
    "\n",
    "Upon examining the baseline evaluation, it's apparent that the model does well with some digits, but struggles with others. Can you offer any insight into this?\n",
    "\n",
    "In contrast, the logistic regression evaluations reveal that the model performs almost equally on all digits but has difficulty in predicting the digit \"8\". Is there a reason for this?"
   ]
  },
  {
   "cell_type": "markdown",
   "id": "ab73a37c",
   "metadata": {},
   "source": [
    "Please answer this question briefly (PRESS ENTER TO WRITE)\n",
    "\n",
    "No more than ten sentences.\n",
    "\n",
    "The Logistic Regression model outperforms the baseline because it learns from training data, capturing patterns rather than relying on simplistic rules. The baseline model's uneven performance across digits indicates a tendency to predict the most frequent classes, neglecting less common ones. \n",
    "\n",
    "Logistic Regression performs well on most digits but struggles with \"8,\" likely due to its visual similarity to \"0\" and \"6,\" which can confuse the model. Additionally, if \"8\" is underrepresented in the training data, the model may fail to learn its features effectively."
   ]
  },
  {
   "cell_type": "markdown",
   "id": "48f6e40c",
   "metadata": {},
   "source": [
    "-----\n",
    "\n",
    "# Extra challenge (not graded)\n",
    "\n",
    "Everything that is below here is not graded. It is completely optional.\n",
    "\n",
    "------"
   ]
  },
  {
   "cell_type": "markdown",
   "id": "2dea8142",
   "metadata": {},
   "source": [
    "### Visualization of weights\n",
    "\n",
    "Can you visualize the weights of the logistic regression (LR)? How can you visualize them? There are different things you should keep in mind. First, as the last LR model we trained was a multiclass LR, the array to multiply with the input will be a bit more complex. Please look at the variable that contains the classifier (let's suppose we called lr) and check these two attributes:\n",
    "\n",
    "  * `lr.coef_`: Weights of the LR model\n",
    "  * `lr.classes_`: Labels of the classes\n",
    "\n",
    "Remember how we built a representation for each image (Exercise 3). For visualization purposes it might be relevant to reshape the weight matrix to its initial shape (`8x8`). You could build a visualization for the weights of each class, in a similar way that you did it in exercise 2."
   ]
  },
  {
   "cell_type": "code",
   "execution_count": 114,
   "id": "394a853d",
   "metadata": {},
   "outputs": [
    {
     "name": "stdout",
     "output_type": "stream",
     "text": [
      "(10, 64)\n"
     ]
    },
    {
     "data": {
      "image/png": "[encoded data removed]",
      "text/plain": [
       "<Figure size 360x1080 with 10 Axes>"
      ]
     },
     "metadata": {
      "needs_background": "light"
     },
     "output_type": "display_data"
    }
   ],
   "source": [
    "#YOUR CODE HERE\n",
    "\n"
   ]
  },
  {
   "cell_type": "markdown",
   "id": "ee21c665",
   "metadata": {},
   "source": [
    "### Machine Learning\n",
    "\n",
    "Can you do what we did but with the `Labeled Faces in the Wild` data set? What is the highest accuracy that you can get? How good are those models compared to a baseline?\n",
    "\n",
    "You may want to train more complex models, such as a Support Vector Machine or a Multilayer Perceptron."
   ]
  },
  {
   "cell_type": "code",
   "execution_count": 134,
   "id": "2a063d21",
   "metadata": {},
   "outputs": [],
   "source": [
    "from sklearn.datasets import fetch_lfw_people"
   ]
  },
  {
   "cell_type": "code",
   "execution_count": 135,
   "id": "25b585a5",
   "metadata": {},
   "outputs": [
    {
     "name": "stdout",
     "output_type": "stream",
     "text": [
      "Total dataset size:\n",
      "n_samples: 3023\n",
      "n_features: 1850\n",
      "n_classes: 62\n"
     ]
    }
   ],
   "source": [
    "#Obtained and modified from https://scikit-learn.org/stable/auto_examples/applications/plot_face_recognition.html\n",
    "\n",
    "# Download the data, if not already on disk and load it as numpy arrays\n",
    "lfw_people = fetch_lfw_people(min_faces_per_person=20, resize=0.4)\n",
    "\n",
    "# introspect the images arrays to find the shapes (for plotting)\n",
    "n_samples, h, w = lfw_people.images.shape\n",
    "\n",
    "# for machine learning we use the 2 data directly (as relative pixel\n",
    "# positions info is ignored by this model)\n",
    "X = lfw_people.data\n",
    "n_features = X.shape[1]\n",
    "\n",
    "# the label to predict is the id of the person\n",
    "y = lfw_people.target\n",
    "target_names = lfw_people.target_names\n",
    "n_classes = target_names.shape[0]\n",
    "\n",
    "print(\"Total dataset size:\")\n",
    "print(\"n_samples: %d\" % n_samples)\n",
    "print(\"n_features: %d\" % n_features)\n",
    "print(\"n_classes: %d\" % n_classes)"
   ]
  },
  {
   "cell_type": "code",
   "execution_count": 136,
   "id": "beb395e7",
   "metadata": {},
   "outputs": [
    {
     "data": {
      "text/plain": [
       "((3023, 1850), (3023,))"
      ]
     },
     "execution_count": 136,
     "metadata": {},
     "output_type": "execute_result"
    }
   ],
   "source": [
    "X.shape, y.shape"
   ]
  },
  {
   "cell_type": "code",
   "execution_count": 137,
   "id": "58f3e661",
   "metadata": {},
   "outputs": [
    {
     "data": {
      "image/png": "[encoded data removed]",
      "text/plain": [
       "<Figure size 432x288 with 1 Axes>"
      ]
     },
     "metadata": {
      "needs_background": "light"
     },
     "output_type": "display_data"
    }
   ],
   "source": [
    "tr_prb = plt.hist(y, bins=np.arange(n_classes), width=0.5, density=True)\n"
   ]
  },
  {
   "cell_type": "code",
   "execution_count": 130,
   "id": "ab3dc411",
   "metadata": {},
   "outputs": [
    {
     "data": {
      "text/plain": [
       "array(['Alejandro Toledo', 'Alvaro Uribe', 'Amelie Mauresmo',\n",
       "       'Andre Agassi', 'Angelina Jolie', 'Ariel Sharon',\n",
       "       'Arnold Schwarzenegger', 'Atal Bihari Vajpayee', 'Bill Clinton',\n",
       "       'Carlos Menem', 'Colin Powell', 'David Beckham', 'Donald Rumsfeld',\n",
       "       'George Robertson', 'George W Bush', 'Gerhard Schroeder',\n",
       "       'Gloria Macapagal Arroyo', 'Gray Davis', 'Guillermo Coria',\n",
       "       'Hamid Karzai', 'Hans Blix', 'Hugo Chavez', 'Igor Ivanov',\n",
       "       'Jack Straw', 'Jacques Chirac', 'Jean Chretien',\n",
       "       'Jennifer Aniston', 'Jennifer Capriati', 'Jennifer Lopez',\n",
       "       'Jeremy Greenstock', 'Jiang Zemin', 'John Ashcroft',\n",
       "       'John Negroponte', 'Jose Maria Aznar', 'Juan Carlos Ferrero',\n",
       "       'Junichiro Koizumi', 'Kofi Annan', 'Laura Bush',\n",
       "       'Lindsay Davenport', 'Lleyton Hewitt', 'Luiz Inacio Lula da Silva',\n",
       "       'Mahmoud Abbas', 'Megawati Sukarnoputri', 'Michael Bloomberg',\n",
       "       'Naomi Watts', 'Nestor Kirchner', 'Paul Bremer', 'Pete Sampras',\n",
       "       'Recep Tayyip Erdogan', 'Ricardo Lagos', 'Roh Moo-hyun',\n",
       "       'Rudolph Giuliani', 'Saddam Hussein', 'Serena Williams',\n",
       "       'Silvio Berlusconi', 'Tiger Woods', 'Tom Daschle', 'Tom Ridge',\n",
       "       'Tony Blair', 'Vicente Fox', 'Vladimir Putin', 'Winona Ryder'],\n",
       "      dtype='<U25')"
      ]
     },
     "execution_count": 130,
     "metadata": {},
     "output_type": "execute_result"
    }
   ],
   "source": [
    "target_names"
   ]
  },
  {
   "cell_type": "markdown",
   "id": "c9e45711",
   "metadata": {},
   "source": [
    "For each classification model, you can look at the f1_score with macro average `f1_score(y_true = y_test, y_pred = y_pred, average='weighted')`."
   ]
  },
  {
   "cell_type": "code",
   "execution_count": 139,
   "id": "1b5e3f59",
   "metadata": {},
   "outputs": [
    {
     "name": "stdout",
     "output_type": "stream",
     "text": [
      "dummy classifier with prior strategy: f1-score=0.049585472314492\n",
      "logistic regression with liblinear solver: f1-score=0.5399270026460602\n",
      "linear svm: f1-score=0.5492625408799304\n"
     ]
    }
   ],
   "source": [
    "#YOUR CODE HERE\n",
    "\n"
   ]
  },
  {
   "attachments": {
    "image.png": {
     "image/png": "[encoded data removed]"
    }
   },
   "cell_type": "markdown",
   "id": "3d8a3939",
   "metadata": {},
   "source": [
    "### Visuailzation\n",
    "\n",
    "Can you make a script that, given a time range (e.g. from 2020-07-01 to 2020-09-01), you plot the number of worldwide Covid-19 infections per day?\n",
    "\n",
    "You can use the information from this website: https://github.com/owid/covid-19-data/tree/master/public/data\n",
    "\n",
    "I would like something similar to what could be seen on the tabloid BT (the image is included below). It does not need to be the same, but it would be nice to make it similar.\n",
    "\n",
    "<!--<img src=\"assignment_2_img.png\"/>-->\n",
    "\n",
    "![image.png](attachment:image.png)"
   ]
  },
  {
   "cell_type": "code",
   "execution_count": 35,
   "id": "b8299977",
   "metadata": {},
   "outputs": [],
   "source": [
    "#YOUR CODE HERE"
   ]
  },
  {
   "cell_type": "markdown",
   "id": "e0e7352b",
   "metadata": {},
   "source": [
    "Can you, besides, make the same plot but including a list of countries and showing the values for each country?"
   ]
  },
  {
   "cell_type": "code",
   "execution_count": 36,
   "id": "f8acfb56",
   "metadata": {},
   "outputs": [],
   "source": [
    "#YOUR CODE HERE"
   ]
  },
  {
   "cell_type": "markdown",
   "id": "6eceeb62",
   "metadata": {},
   "source": [
    "Can you make a similar plot with vaccinations?"
   ]
  },
  {
   "cell_type": "code",
   "execution_count": 37,
   "id": "6edb1593",
   "metadata": {},
   "outputs": [],
   "source": [
    "#YOUR CODE HERE"
   ]
  }
 ],
 "metadata": {
  "kernelspec": {
   "display_name": "Python 3 (ipykernel)",
   "language": "python",
   "name": "python3"
  },
  "language_info": {
   "codemirror_mode": {
    "name": "ipython",
    "version": 3
   },
   "file_extension": ".py",
   "mimetype": "text/x-python",
   "name": "python",
   "nbconvert_exporter": "python",
   "pygments_lexer": "ipython3",
   "version": "3.12.4"
  }
 },
 "nbformat": 4,
 "nbformat_minor": 5
}
